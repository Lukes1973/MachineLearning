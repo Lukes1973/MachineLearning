{
 "cells": [
  {
   "cell_type": "code",
   "execution_count": null,
   "metadata": {},
   "outputs": [],
   "source": [
    "#导入相关的库\n",
    "import mysql.connector\n",
    "import pandas as pd\n",
    "import numpy as np\n",
    "from datetime import datetime,date,timedelta\n",
    "from dateutil.parser import parse"
   ]
  },
  {
   "cell_type": "code",
   "execution_count": null,
   "metadata": {},
   "outputs": [],
   "source": [
    "#数据库连接初始化\n",
    "mydb = mysql.connector.connect(\n",
    "    host=\"rm-bp178mt2593im687xjo.mysql.rds.aliyuncs.com\",\n",
    "    user=\"root\",\n",
    "    passwd=\"KLxs8888\",\n",
    "    database=\"wdgj\"\n",
    ")\n",
    "print(mydb)"
   ]
  },
  {
   "cell_type": "code",
   "execution_count": null,
   "metadata": {},
   "outputs": [],
   "source": [
    "# #数据库连接初始化\n",
    "# mydb = mysql.connector.connect(\n",
    "#     host=\"localhost\",\n",
    "#     user=\"root\",\n",
    "#     passwd=\"qaz!@wsx\",\n",
    "#     database=\"work\"\n",
    "# )\n",
    "# print(mydb)"
   ]
  },
  {
   "cell_type": "code",
   "execution_count": null,
   "metadata": {},
   "outputs": [],
   "source": [
    "#定义SQL语句\n",
    "profitCheck='SELECT * FROM profit_check_sku_shop'\n",
    "returnDetail ='SELECT * FROM return_sku_shop'"
   ]
  },
  {
   "cell_type": "code",
   "execution_count": null,
   "metadata": {},
   "outputs": [],
   "source": [
    "#打开游标，获取数据\n",
    "mycursor=mydb.cursor()\n",
    "mycursor.execute(profitCheck)\n",
    "profitCheck1901=mycursor.fetchall()\n",
    "mycursor.close()"
   ]
  },
  {
   "cell_type": "code",
   "execution_count": null,
   "metadata": {},
   "outputs": [],
   "source": [
    "#打开游标，获取数据\n",
    "mycursor=mydb.cursor()\n",
    "mycursor.execute(returnDetail)\n",
    "returnSku1901=mycursor.fetchall()\n",
    "mycursor.close()"
   ]
  },
  {
   "cell_type": "code",
   "execution_count": null,
   "metadata": {},
   "outputs": [],
   "source": [
    "#数据格式转化成为pandas\n",
    "profitCheck1901=pd.DataFrame(profitCheck1901)\n",
    "returnSku1901=pd.DataFrame(returnSku1901)"
   ]
  },
  {
   "cell_type": "code",
   "execution_count": null,
   "metadata": {},
   "outputs": [],
   "source": [
    "profitCheck1901.columns=['Date','GoodsNO','BarCode','GoodsName','GoodsCount','Income','Cost','FavourableTotal'\\\n",
    "                        ,'Postage','PostageTotal','OperationCost','shopname']\n",
    "returnSku1901.columns=['Date','GoodsNO','GoodsName','ReturnTotal','GoodsCount','returnCost','shopname']"
   ]
  },
  {
   "cell_type": "code",
   "execution_count": null,
   "metadata": {},
   "outputs": [],
   "source": [
    "returnSku1901.head()"
   ]
  },
  {
   "cell_type": "code",
   "execution_count": null,
   "metadata": {},
   "outputs": [],
   "source": [
    "returnSku1901[\"GoodsCount\"]=returnSku1901[\"GoodsCount\"].astype(float)\n",
    "result2=returnSku1901.groupby(['Date'],as_index=False)\n",
    "result2=result2.aggregate(np.sum)#出库总数\n",
    "result2.GoodsCount.sum()"
   ]
  },
  {
   "cell_type": "code",
   "execution_count": null,
   "metadata": {},
   "outputs": [],
   "source": [
    "profitCheck1901.head()"
   ]
  },
  {
   "cell_type": "code",
   "execution_count": null,
   "metadata": {},
   "outputs": [],
   "source": [
    "returnSku1901[\"GoodsCount\"]=returnSku1901[\"GoodsCount\"].astype(float)"
   ]
  },
  {
   "cell_type": "code",
   "execution_count": null,
   "metadata": {},
   "outputs": [],
   "source": [
    "#合并出库明细和退货明细\n",
    "data_merge = pd.merge(profitCheck1901,returnSku1901,on=['Date','GoodsNO','shopname'],how='left')"
   ]
  },
  {
   "cell_type": "code",
   "execution_count": null,
   "metadata": {},
   "outputs": [],
   "source": [
    "returnSku1901[\"GoodsCount\"]=returnSku1901[\"GoodsCount\"].astype(float)\n",
    "data_merge1=data_merge.groupby(['Date'],as_index=False)\n",
    "data_merge1=data_merge1.aggregate(np.sum)#出库总数\n",
    "data_merge1.GoodsCount_y.sum()"
   ]
  },
  {
   "cell_type": "code",
   "execution_count": null,
   "metadata": {},
   "outputs": [],
   "source": [
    "# data_merge.to_excel(\"data_merge_right.xlsx\",header=True)"
   ]
  },
  {
   "cell_type": "code",
   "execution_count": null,
   "metadata": {},
   "outputs": [],
   "source": [
    "data_merge.head()"
   ]
  },
  {
   "cell_type": "code",
   "execution_count": null,
   "metadata": {},
   "outputs": [],
   "source": [
    "#data_merge.to_excel(\"data_merge.xlsx\",header=True,index=False)"
   ]
  },
  {
   "cell_type": "code",
   "execution_count": null,
   "metadata": {},
   "outputs": [],
   "source": [
    "data_merge.head()"
   ]
  },
  {
   "cell_type": "code",
   "execution_count": null,
   "metadata": {},
   "outputs": [],
   "source": [
    "del data_merge['GoodsName_y']"
   ]
  },
  {
   "cell_type": "code",
   "execution_count": null,
   "metadata": {},
   "outputs": [],
   "source": [
    "#获取商品小组对应情况\n",
    "GoodsInfo =pd.read_csv('C:\\\\Users\\\\Administrator\\\\PycharmProjects\\\\test\\\\goodsinfo0402.csv',header = 0,engine='python')\n",
    "GoodsInfo.columns=['GoodsNO','GoodsName','BarCode','Company','Dept','TmallTax','GroupName','Holder','GradeTwo','GradeThird','GradeForth','SPU']"
   ]
  },
  {
   "cell_type": "code",
   "execution_count": null,
   "metadata": {},
   "outputs": [],
   "source": [
    "#删除重复以及不必要列\n",
    "GoodsInfoShort=GoodsInfo[['Company','Dept','GroupName','TmallTax','Holder','GradeTwo','GradeThird','GradeForth','SPU','BarCode']]\n",
    "# GoodsInfoShort=GoodsInfo[['Company','Dept','GroupName','TmallTax','Holder','GradeTwo','GradeThird','GradeForth','SPU','GoodsNO']]"
   ]
  },
  {
   "cell_type": "code",
   "execution_count": null,
   "metadata": {},
   "outputs": [],
   "source": [
    "GoodsInfoShort.shape"
   ]
  },
  {
   "cell_type": "code",
   "execution_count": null,
   "metadata": {},
   "outputs": [],
   "source": [
    "#以SKU编码为唯一辨识，去重\n",
    "# GoodsInfoShort=GoodsInfoShort.drop_duplicates([\"GoodsNO\"])\n",
    "#以BarCode为唯一辨识，去重\n",
    "GoodsInfoShort=GoodsInfoShort.drop_duplicates([\"BarCode\"])"
   ]
  },
  {
   "cell_type": "code",
   "execution_count": null,
   "metadata": {},
   "outputs": [],
   "source": [
    "GoodsInfoShort.shape"
   ]
  },
  {
   "cell_type": "code",
   "execution_count": null,
   "metadata": {},
   "outputs": [],
   "source": [
    "GoodsInfoShort.head()"
   ]
  },
  {
   "cell_type": "code",
   "execution_count": null,
   "metadata": {},
   "outputs": [],
   "source": [
    "#匹配销售数据和对应小组信息\n",
    "data_merge_dept=pd.merge(data_merge,GoodsInfoShort,on=['BarCode'],how='left')"
   ]
  },
  {
   "cell_type": "code",
   "execution_count": null,
   "metadata": {},
   "outputs": [],
   "source": [
    "# data_merge_dept = pd.read_csv('C:\\\\Users\\\\Administrator\\\\Desktop\\\\sell_return_dept.csv')"
   ]
  },
  {
   "cell_type": "code",
   "execution_count": null,
   "metadata": {
    "scrolled": true
   },
   "outputs": [],
   "source": [
    "data_merge_dept.head()"
   ]
  },
  {
   "cell_type": "code",
   "execution_count": null,
   "metadata": {},
   "outputs": [],
   "source": [
    "data_merge_dept.columns"
   ]
  },
  {
   "cell_type": "code",
   "execution_count": null,
   "metadata": {},
   "outputs": [],
   "source": [
    "# kub=pd.read_csv('C:\\\\Users\\\\Administrator\\\\Desktop\\\\商品SKU事业部\\\\0124\\\\kub0125.csv',engine='python')\n",
    "# kub=kub[['GoodsNO','Dept','GroupName']]\n",
    "# kub=kub.drop_duplicates([\"GoodsNO\"])\n",
    "# kub.columns=['SKU','Dept','GroupName']\n",
    "# data_merge_dept_gp=pd.merge(data_merge_dept,kub,on=['SKU'],how='left')\n",
    "# data_merge_dept_gp.to_excel('data_group_new0125.xlsx',header=True,index=False)"
   ]
  },
  {
   "cell_type": "code",
   "execution_count": null,
   "metadata": {},
   "outputs": [],
   "source": [
    "#修改合并后的列名\n",
    "data_merge_dept.columns=['Date', 'SKU', 'BarCode', 'Name', 'SellCount', 'SellIncome',\n",
    "       'SellCost', 'FavourableTotal', 'Postage', 'PostageTotal', 'OperationCost','ShopName',\n",
    "       'ReturnTotal', 'ReturnCount', 'ReturnCost', 'Company', 'Dept',\n",
    "       'GroupName','TmallTax','Holder','GradeTwo','GradeThird','GradeForth','SPU']"
   ]
  },
  {
   "cell_type": "code",
   "execution_count": null,
   "metadata": {
    "scrolled": true
   },
   "outputs": [],
   "source": [
    "data_merge_dept.head()"
   ]
  },
  {
   "cell_type": "code",
   "execution_count": null,
   "metadata": {},
   "outputs": [],
   "source": [
    "shopname={'贝豪婴童专营店':'天猫商城',\n",
    "'欣懿宝贝-米歌':'天猫商城',\n",
    "'可优比旗舰店':'天猫商城',\n",
    "'蒂爱旗舰店':'天猫商城',\n",
    "'贝豪拼多多':'拼多多',\n",
    "'麦可适旗舰店':'天猫商城',\n",
    "'可优比（杭州来福士）':'线下',\n",
    "'唯品会（蒂爱）':'唯品会',\n",
    "'美易仓库':'美易仓库',\n",
    "'京东可优比母婴旗舰店':'京东商城',\n",
    "'可优比海外自营店':'海外店',\n",
    "'可优比天猫超市':'天猫超市',\n",
    "'唯品会（可优比）':'唯品会',\n",
    "'唯品会MP（蒂爱）':'唯品会',\n",
    "'优趣玩具专营店':'天猫商城',\n",
    "'可优比母婴生活馆':'有赞',\n",
    "'贝豪贝店商城':'贝贝网',\n",
    "'可优比团购店铺':'团购',\n",
    "'蒂爱团购店铺':'团购',\n",
    "'京东蒂爱母婴旗舰店':'京东商城'}"
   ]
  },
  {
   "cell_type": "code",
   "execution_count": null,
   "metadata": {},
   "outputs": [],
   "source": [
    "data_merge_dept['Source']=data_merge_dept['ShopName'].map(shopname)"
   ]
  },
  {
   "cell_type": "code",
   "execution_count": null,
   "metadata": {},
   "outputs": [],
   "source": [
    "#data_merge_dept['Postage']=0"
   ]
  },
  {
   "cell_type": "code",
   "execution_count": null,
   "metadata": {},
   "outputs": [],
   "source": [
    "data_merge_dept['GroupName']=data_merge_dept['GroupName'].fillna('#N/A')"
   ]
  },
  {
   "cell_type": "code",
   "execution_count": null,
   "metadata": {},
   "outputs": [],
   "source": [
    "data_merge_dept=data_merge_dept.drop_duplicates([\"SKU\",\"ShopName\"])"
   ]
  },
  {
   "cell_type": "code",
   "execution_count": null,
   "metadata": {},
   "outputs": [],
   "source": [
    "data_merge_dept[['SellCount', 'SellIncome',\n",
    "       'SellCost', 'FavourableTotal', 'Postage', 'PostageTotal', 'OperationCost',\n",
    "       'ReturnTotal', 'ReturnCount', 'ReturnCost','TmallTax']] = data_merge_dept[['SellCount', 'SellIncome',\n",
    "       'SellCost', 'FavourableTotal', 'Postage', 'PostageTotal', 'OperationCost',\n",
    "       'ReturnTotal', 'ReturnCount', 'ReturnCost','TmallTax']].astype(float)"
   ]
  },
  {
   "cell_type": "code",
   "execution_count": null,
   "metadata": {},
   "outputs": [],
   "source": [
    "data_merge_dept.to_csv(\"C:\\\\Users\\\\Administrator\\\\Desktop\\\\data_merge_dept_all.csv\",header=True,index=False)\n",
    "data_merge_dept.to_excel(\"C:\\\\Users\\\\Administrator\\\\Desktop\\\\data_merge_dept_all.xlsx\",header=True,index=False)"
   ]
  },
  {
   "cell_type": "code",
   "execution_count": null,
   "metadata": {},
   "outputs": [],
   "source": [
    "data_merge_dept=data_merge_dept.dropna(axis=0,subset=['Source','Dept'])\n",
    "data_merge_dept=data_merge_dept[(data_merge_dept['Dept']!='KUB包材')&(data_merge_dept['Dept']!='KUB赠品')\\\n",
    "                          &(data_merge_dept['Dept']!='蒂爱共用')&(data_merge_dept['Source']!='NaN')]"
   ]
  },
  {
   "cell_type": "code",
   "execution_count": null,
   "metadata": {},
   "outputs": [],
   "source": [
    "data_merge_dept[data_merge_dept['SKU']=='109804']['Source']"
   ]
  },
  {
   "cell_type": "code",
   "execution_count": null,
   "metadata": {},
   "outputs": [],
   "source": [
    "data_merge_dept.to_csv(\"C:\\\\Users\\\\Administrator\\\\Desktop\\\\data_merge_dept.csv\",header=True,index=False)\n",
    "data_merge_dept.to_excel(\"C:\\\\Users\\\\Administrator\\\\Desktop\\\\data_merge_dept.xlsx\",header=True,index=False)"
   ]
  },
  {
   "cell_type": "code",
   "execution_count": null,
   "metadata": {},
   "outputs": [],
   "source": [
    "department_gross_profit = pd.DataFrame()\n",
    "department_gross_profit = pd.concat([department_gross_profit,data_merge_dept])"
   ]
  },
  {
   "cell_type": "code",
   "execution_count": null,
   "metadata": {},
   "outputs": [],
   "source": [
    "#查看缺失值情况\n",
    "department_gross_profit=department_gross_profit.fillna(np.nan)\n",
    "department_gross_profit.isnull().sum()"
   ]
  },
  {
   "cell_type": "code",
   "execution_count": null,
   "metadata": {},
   "outputs": [],
   "source": [
    "department_gross_profit.head()"
   ]
  },
  {
   "cell_type": "code",
   "execution_count": null,
   "metadata": {},
   "outputs": [],
   "source": [
    "department_gross_profit[['SellCount', 'SellIncome',\n",
    "       'SellCost', 'FavourableTotal', 'Postage', 'PostageTotal', 'OperationCost',\n",
    "       'ReturnTotal', 'ReturnCount', 'ReturnCost','TmallTax']] = department_gross_profit[['SellCount', 'SellIncome',\n",
    "       'SellCost', 'FavourableTotal', 'Postage', 'PostageTotal', 'OperationCost',\n",
    "       'ReturnTotal', 'ReturnCount', 'ReturnCost','TmallTax']].astype(float)"
   ]
  },
  {
   "cell_type": "code",
   "execution_count": null,
   "metadata": {},
   "outputs": [],
   "source": [
    "department_gross_profit.head()"
   ]
  },
  {
   "cell_type": "code",
   "execution_count": null,
   "metadata": {},
   "outputs": [],
   "source": [
    "#填充缺失值为0\n",
    "department_gross_profit[['ReturnTotal', 'ReturnCount', 'ReturnCost','TmallTax']]=department_gross_profit\\\n",
    "[['ReturnTotal', 'ReturnCount', 'ReturnCost','TmallTax']].fillna(0)\n",
    "\n",
    "#填充缺失小组为#N/A\n",
    "department_gross_profit['GroupName']=department_gross_profit\\\n",
    "['GroupName'].fillna('#N/A')"
   ]
  },
  {
   "cell_type": "code",
   "execution_count": null,
   "metadata": {},
   "outputs": [],
   "source": [
    "department_gross_profit['CheckIncome'] = department_gross_profit['SellIncome']-department_gross_profit['FavourableTotal']\\\n",
    "                                        +department_gross_profit['PostageTotal']-department_gross_profit['ReturnTotal']\n",
    "department_gross_profit['CheckCost'] = department_gross_profit['SellCost']-department_gross_profit['ReturnCost']\n",
    "department_gross_profit['TmallCharge'] = (department_gross_profit['SellIncome']-department_gross_profit['FavourableTotal']-\\\n",
    "                                        department_gross_profit['ReturnTotal'])*department_gross_profit['TmallTax']"
   ]
  },
  {
   "cell_type": "code",
   "execution_count": null,
   "metadata": {},
   "outputs": [],
   "source": [
    "# #按公司，部门，日期进行归类\n",
    "department_gross_profit_gb=department_gross_profit.groupby(['Company','Dept','Date','Source','ShopName'],as_index=False)"
   ]
  },
  {
   "cell_type": "code",
   "execution_count": null,
   "metadata": {},
   "outputs": [],
   "source": [
    "#按公司，部门，日期进行归类\n",
    "# department_gross_profit_gb=department_gross_profit.groupby(['Company','Dept','Date'],as_index=False)"
   ]
  },
  {
   "cell_type": "code",
   "execution_count": null,
   "metadata": {},
   "outputs": [],
   "source": [
    "#归类汇总\n",
    "department_gross_profit_gb = department_gross_profit_gb.aggregate(np.sum)\n",
    "del department_gross_profit_gb['TmallTax']"
   ]
  },
  {
   "cell_type": "code",
   "execution_count": null,
   "metadata": {},
   "outputs": [],
   "source": [
    "#计算营业税，毛利润，毛利率\n",
    "department_gross_profit_gb['Tax']=department_gross_profit_gb['CheckIncome']*0.06\n",
    "department_gross_profit_gb['GrossProfit']=department_gross_profit_gb['CheckIncome']-department_gross_profit_gb['CheckCost']-\\\n",
    "                                            department_gross_profit_gb['CheckIncome']*0.06-department_gross_profit_gb['TmallCharge']-\\\n",
    "                                            department_gross_profit_gb['Postage']-department_gross_profit_gb['OperationCost']\n",
    "department_gross_profit_gb['GrossProfitRate']=department_gross_profit_gb['GrossProfit']/department_gross_profit_gb['SellIncome']"
   ]
  },
  {
   "cell_type": "code",
   "execution_count": null,
   "metadata": {
    "scrolled": false
   },
   "outputs": [],
   "source": [
    "department_gross_profit_gb=department_gross_profit_gb[(department_gross_profit_gb['Dept']!='KUB包材')&(department_gross_profit_gb['Dept']!='KUB赠品')\\\n",
    "                          &(department_gross_profit_gb['Dept']!='蒂爱共用')]"
   ]
  },
  {
   "cell_type": "code",
   "execution_count": null,
   "metadata": {
    "scrolled": false
   },
   "outputs": [],
   "source": [
    "department_gross_profit_gb.head()"
   ]
  },
  {
   "cell_type": "code",
   "execution_count": null,
   "metadata": {},
   "outputs": [],
   "source": [
    "department_gross_profit_gb.columns"
   ]
  },
  {
   "cell_type": "code",
   "execution_count": null,
   "metadata": {},
   "outputs": [],
   "source": [
    "department_gross_profit_gb.to_csv(\"C:\\\\Users\\\\Administrator\\\\Desktop\\\\department_gross_profit_gb.csv\",header=True,index=False)"
   ]
  },
  {
   "cell_type": "code",
   "execution_count": null,
   "metadata": {},
   "outputs": [],
   "source": [
    "department_gross_profit_gb.columns=['公司','事业部','日期','渠道','店铺','销售数量','销售收入','销售货品成本','优惠金额','快递费','应收邮资','操作费','退货金额','退货数量','退货货品成本','核算收入','核算成本','天猫扣点','营业税','毛利润','毛利率']\n",
    "department_gross_profit_gb.to_excel(\"C:\\\\Users\\\\Administrator\\\\Desktop\\\\department_gross_profit_gb.xlsx\",header=True,index=False)"
   ]
  },
  {
   "cell_type": "code",
   "execution_count": null,
   "metadata": {},
   "outputs": [],
   "source": [
    "# department_gross_profit_gb.columns=['公司','事业部','日期','销售数量','销售收入','销售货品成本','优惠金额','快递费','应收邮资','操作费','退货金额','退货数量','退货货品成本','核算收入','核算成本','天猫扣点','营业税','毛利润','毛利率']\n",
    "# department_gross_profit_gb.to_excel(\"C:\\\\Users\\\\Administrator\\\\Desktop\\\\department_gross_profit_gb.xlsx\",header=True,index=False)"
   ]
  },
  {
   "cell_type": "code",
   "execution_count": null,
   "metadata": {},
   "outputs": [],
   "source": [
    "# data_merge1=department_gross_profit_gb.groupby(['Date'],as_index=False)\n",
    "# data_merge1=data_merge1.aggregate(np.sum)#出库总数\n",
    "# data_merge1.ReturnCount.sum()"
   ]
  },
  {
   "cell_type": "code",
   "execution_count": null,
   "metadata": {},
   "outputs": [],
   "source": [
    "#按公司、部门、小组已经日期进行归类\n",
    "department_gross_profit_gb_group=department_gross_profit.groupby(['Company','Dept','GroupName','Date','Source','ShopName'],as_index=False)\n",
    "# department_gross_profit_gb_group=department_gross_profit.groupby(['Company','Dept','GroupName','Date'],as_index=False)"
   ]
  },
  {
   "cell_type": "code",
   "execution_count": null,
   "metadata": {},
   "outputs": [],
   "source": [
    "department_gross_profit_gb_group = department_gross_profit_gb_group.aggregate(np.sum)\n",
    "del department_gross_profit_gb_group['TmallTax']"
   ]
  },
  {
   "cell_type": "code",
   "execution_count": null,
   "metadata": {},
   "outputs": [],
   "source": [
    "department_gross_profit_gb_group.head()"
   ]
  },
  {
   "cell_type": "code",
   "execution_count": null,
   "metadata": {},
   "outputs": [],
   "source": [
    "department_gross_profit_gb_group['Tax']=department_gross_profit_gb_group['CheckIncome']*0.06\n",
    "department_gross_profit_gb_group['GrossProfit']=department_gross_profit_gb_group['CheckIncome']-department_gross_profit_gb_group['CheckCost']-\\\n",
    "                                            department_gross_profit_gb_group['CheckIncome']*0.06-department_gross_profit_gb_group['TmallCharge']-\\\n",
    "                                            department_gross_profit_gb_group['Postage']-department_gross_profit_gb_group['OperationCost']\n",
    "department_gross_profit_gb_group['GrossProfitRate']=department_gross_profit_gb_group['GrossProfit']/department_gross_profit_gb_group['SellIncome']"
   ]
  },
  {
   "cell_type": "code",
   "execution_count": null,
   "metadata": {},
   "outputs": [],
   "source": [
    "department_gross_profit_gb_group=department_gross_profit_gb_group[(department_gross_profit_gb_group['Dept']!='KUB包材')&(department_gross_profit_gb_group['Dept']!='KUB赠品')\\\n",
    "                          &(department_gross_profit_gb_group['Dept']!='蒂爱共用')]"
   ]
  },
  {
   "cell_type": "code",
   "execution_count": null,
   "metadata": {},
   "outputs": [],
   "source": [
    "department_gross_profit_gb_group.head()"
   ]
  },
  {
   "cell_type": "code",
   "execution_count": null,
   "metadata": {},
   "outputs": [],
   "source": [
    "department_gross_profit_gb_group.to_csv(\"C:\\\\Users\\\\Administrator\\\\Desktop\\\\department_gross_profit_gb_group.csv\",header=True,index=False)\n",
    "department_gross_profit_gb_group.to_excel(\"C:\\\\Users\\\\Administrator\\\\Desktop\\\\department_gross_profit_gb_group.xlsx\",header=True,index=False)"
   ]
  },
  {
   "cell_type": "code",
   "execution_count": null,
   "metadata": {},
   "outputs": [],
   "source": []
  },
  {
   "cell_type": "code",
   "execution_count": null,
   "metadata": {},
   "outputs": [],
   "source": [
    "data_merge_dept_edit=pd.DataFrame()\n",
    "data_merge_dept_edit=pd.concat([data_merge_dept_edit,data_merge_dept])"
   ]
  },
  {
   "cell_type": "code",
   "execution_count": null,
   "metadata": {},
   "outputs": [],
   "source": [
    "# data_merge_dept_edit.columns=['日期','SKU编码','条码','品名','销售数量','销售收入','货品成本','优惠金额','快递费',\\\n",
    "#                         '应收邮资','操作费','店铺名称','退货金额','退货数量','退货货品成本','公司名称','事业部','小组','天猫扣点','负责人','二级类目','三级类目','四级类目','SPU','渠道']"
   ]
  },
  {
   "cell_type": "code",
   "execution_count": null,
   "metadata": {},
   "outputs": [],
   "source": [
    "data_merge_dept_edit.columns"
   ]
  },
  {
   "cell_type": "code",
   "execution_count": null,
   "metadata": {},
   "outputs": [],
   "source": [
    "#填充缺失值为0\n",
    "data_merge_dept_edit=data_merge_dept_edit.fillna(np.nan)\n",
    "data_merge_dept_edit.isnull().sum()"
   ]
  },
  {
   "cell_type": "code",
   "execution_count": null,
   "metadata": {},
   "outputs": [],
   "source": [
    "# data_merge_dept_edit[['操作费','退货金额','退货数量','退货货品成本']]=data_merge_dept_edit\\\n",
    "# [['操作费','退货金额','退货数量','退货货品成本']].fillna(0)"
   ]
  },
  {
   "cell_type": "code",
   "execution_count": null,
   "metadata": {},
   "outputs": [],
   "source": [
    "# data_merge_dept_edit.to_excel(\"20190131.xlsx\",header=True,index=False)\n",
    "data_merge_dept_edit.to_excel(\"C:\\\\Users\\\\Administrator\\\\Desktop\\\\data_merge_dept.xlsx\",header=True,index=False)"
   ]
  },
  {
   "cell_type": "code",
   "execution_count": null,
   "metadata": {},
   "outputs": [],
   "source": [
    "# data_merge_dept.columns=['Date', 'SKU', 'BarCode', 'Name', 'SellCount', 'SellIncome',\n",
    "#        'SellCost', 'FavourableTotal', 'Postage', 'PostageTotal', 'OperationCost',\n",
    "#        'ReturnTotal', 'ReturnCount', 'ReturnCost', 'Company', 'Dept',\n",
    "#        'Group']"
   ]
  },
  {
   "cell_type": "code",
   "execution_count": null,
   "metadata": {},
   "outputs": [],
   "source": [
    "# def merge(data_left,data_right,key):\n",
    "#     left=pd.read_csv(data_left,header = 0,dtype = object,engine='python',encoding='utf-8')\n",
    "#     right=pd.read_csv(data_right,header = 0,dtype = object,engine='python')\n",
    "#     right=right.drop_duplicates(key)\n",
    "#     data_merge=pd.merge(left,right,on=key,how='left')\n",
    "#     return data_merge"
   ]
  },
  {
   "cell_type": "code",
   "execution_count": null,
   "metadata": {
    "scrolled": true
   },
   "outputs": [],
   "source": [
    "# del data['BarCode_x']\n",
    "# data['BarCode']=data['BarCode_y']\n",
    "# data=data.drop('BarCode_y',axis=1)"
   ]
  },
  {
   "cell_type": "code",
   "execution_count": null,
   "metadata": {},
   "outputs": [],
   "source": [
    "data_merge_dept.head()"
   ]
  },
  {
   "cell_type": "code",
   "execution_count": null,
   "metadata": {},
   "outputs": [],
   "source": [
    "returnSku1901.head()\n",
    "returnSku1901.columns=['Date', 'SKU', 'Name', 'ReturnTotal', 'GoodsCount','returnCost', 'ShopName']\n",
    "returnSku1901.head()"
   ]
  },
  {
   "cell_type": "code",
   "execution_count": null,
   "metadata": {},
   "outputs": [],
   "source": [
    "return_diff=pd.merge(returnSku1901,data_merge_dept,on=['Date','Name','ShopName','SKU'],how='left')"
   ]
  },
  {
   "cell_type": "code",
   "execution_count": null,
   "metadata": {},
   "outputs": [],
   "source": [
    "return_diff.columns\n",
    "return_diff=return_diff[['Date', 'SKU', 'Name', 'ReturnTotal_x', 'GoodsCount',\n",
    "       'returnCost', 'ShopName','ReturnTotal_y', 'ReturnCount', 'ReturnCost']]"
   ]
  },
  {
   "cell_type": "code",
   "execution_count": null,
   "metadata": {},
   "outputs": [],
   "source": [
    "return_diff.to_excel(\"C:\\\\Users\\\\Administrator\\\\Desktop\\\\return_diff.xlsx\",header=True,index=False)"
   ]
  },
  {
   "cell_type": "code",
   "execution_count": null,
   "metadata": {},
   "outputs": [],
   "source": [
    "returnSku1901[\"GoodsCount\"]=returnSku1901[\"GoodsCount\"].astype(float)\n",
    "result2=returnSku1901.groupby(['Date'],as_index=False)\n",
    "result2=result2.aggregate(np.sum)#出库总数\n",
    "result2.GoodsCount.sum()"
   ]
  },
  {
   "cell_type": "code",
   "execution_count": null,
   "metadata": {},
   "outputs": [],
   "source": []
  }
 ],
 "metadata": {
  "kernelspec": {
   "display_name": "Python 3",
   "language": "python",
   "name": "python3"
  },
  "language_info": {
   "codemirror_mode": {
    "name": "ipython",
    "version": 3
   },
   "file_extension": ".py",
   "mimetype": "text/x-python",
   "name": "python",
   "nbconvert_exporter": "python",
   "pygments_lexer": "ipython3",
   "version": "3.6.4"
  }
 },
 "nbformat": 4,
 "nbformat_minor": 2
}

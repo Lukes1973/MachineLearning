{
 "cells": [
  {
   "cell_type": "code",
   "execution_count": null,
   "metadata": {},
   "outputs": [],
   "source": [
    "#!!!!! 执行以下语句之前，切记，先确保库存stock_age_cal中的负数转换正数，然后添加至每日出库daily_stockout_sell,同时注意修改时间。\n",
    "# 确保daily_stockout_sell_0930里面时间大于等于2018-11-30"
   ]
  },
  {
   "cell_type": "code",
   "execution_count": null,
   "metadata": {},
   "outputs": [],
   "source": [
    "import mysql.connector\n",
    "import pandas as pd\n",
    "import numpy as np\n",
    "from datetime import datetime,date,timedelta\n",
    "from dateutil.parser import parse"
   ]
  },
  {
   "cell_type": "code",
   "execution_count": null,
   "metadata": {},
   "outputs": [],
   "source": [
    "# #数据库连接初始化设置\n",
    "# mydb = mysql.connector.connect(\n",
    "#     host=\"localhost\",\n",
    "#     user=\"root\",\n",
    "#     passwd=\"qaz!@wsx\",\n",
    "#     database=\"work\"\n",
    "# )\n",
    "# print(mydb)"
   ]
  },
  {
   "cell_type": "code",
   "execution_count": null,
   "metadata": {},
   "outputs": [],
   "source": [
    "#数据库连接初始化\n",
    "mydb = mysql.connector.connect(\n",
    "    host=\"rm-bp178mt2593im687xjo.mysql.rds.aliyuncs.com\",\n",
    "    user=\"root\",\n",
    "    passwd=\"KLxs8888\",\n",
    "    database=\"wdgj\"\n",
    ")\n",
    "print(mydb)"
   ]
  },
  {
   "cell_type": "code",
   "execution_count": null,
   "metadata": {},
   "outputs": [],
   "source": [
    "#SQL语句\n",
    "sqlStock=\"SELECT * FROM stock_age_cal\"\n",
    "sqlSell =\"SELECT * FROM daily_stockout_sell\""
   ]
  },
  {
   "cell_type": "code",
   "execution_count": null,
   "metadata": {},
   "outputs": [],
   "source": [
    "#库存数据获取\n",
    "mycursor=mydb.cursor()\n",
    "mycursor.execute(sqlStock)\n",
    "stockdata=mycursor.fetchall()"
   ]
  },
  {
   "cell_type": "code",
   "execution_count": null,
   "metadata": {
    "scrolled": true
   },
   "outputs": [],
   "source": [
    "#将数据转化为DaraFrame\n",
    "stockdata=pd.DataFrame(stockdata)\n",
    "stockdata.columns=['GoodsNO','GoodsName','Total_in','date']\n",
    "stockdata=stockdata[['GoodsNO','GoodsName','Total_in','date']]"
   ]
  },
  {
   "cell_type": "code",
   "execution_count": null,
   "metadata": {},
   "outputs": [],
   "source": [
    "stockdata.head()"
   ]
  },
  {
   "cell_type": "code",
   "execution_count": null,
   "metadata": {},
   "outputs": [],
   "source": [
    "stockdata =stockdata.fillna(np.nan)"
   ]
  },
  {
   "cell_type": "code",
   "execution_count": null,
   "metadata": {},
   "outputs": [],
   "source": [
    "stockdata.isnull().sum()"
   ]
  },
  {
   "cell_type": "code",
   "execution_count": null,
   "metadata": {},
   "outputs": [],
   "source": [
    "stockdata['Total_in']=stockdata['Total_in'].fillna(0)"
   ]
  },
  {
   "cell_type": "code",
   "execution_count": null,
   "metadata": {},
   "outputs": [],
   "source": [
    "stockdata.shape"
   ]
  },
  {
   "cell_type": "code",
   "execution_count": null,
   "metadata": {},
   "outputs": [],
   "source": [
    "#删除小于等于0的数值\n",
    "index = stockdata[stockdata['Total_in']<=0].index\n",
    "stockdata=stockdata.drop(index=index,axis=0)"
   ]
  },
  {
   "cell_type": "code",
   "execution_count": null,
   "metadata": {},
   "outputs": [],
   "source": [
    "stockdata.shape"
   ]
  },
  {
   "cell_type": "code",
   "execution_count": null,
   "metadata": {},
   "outputs": [],
   "source": [
    "#按SKU分类汇总\n",
    "stockdata_groupby = stockdata.groupby(['GoodsNO','GoodsName','date'],as_index=False)\n",
    "stockdata_groupby=stockdata_groupby.aggregate(np.sum)"
   ]
  },
  {
   "cell_type": "code",
   "execution_count": null,
   "metadata": {},
   "outputs": [],
   "source": [
    "stockdata_groupby['cal_time']=''"
   ]
  },
  {
   "cell_type": "code",
   "execution_count": null,
   "metadata": {},
   "outputs": [],
   "source": [
    "stockdata_groupby.head()"
   ]
  },
  {
   "cell_type": "code",
   "execution_count": null,
   "metadata": {},
   "outputs": [],
   "source": [
    "stockdata_groupby.shape"
   ]
  },
  {
   "cell_type": "code",
   "execution_count": null,
   "metadata": {},
   "outputs": [],
   "source": [
    "#清除库存为0的数据\n",
    "index = stockdata_groupby[stockdata_groupby['Total_in']==0].index\n",
    "stockdata_groupby=stockdata_groupby.drop(index=index,axis=0)"
   ]
  },
  {
   "cell_type": "code",
   "execution_count": null,
   "metadata": {},
   "outputs": [],
   "source": [
    "stockdata_groupby.shape"
   ]
  },
  {
   "cell_type": "code",
   "execution_count": null,
   "metadata": {},
   "outputs": [],
   "source": [
    "stockdata_groupby['date'].head()"
   ]
  },
  {
   "cell_type": "code",
   "execution_count": null,
   "metadata": {},
   "outputs": [],
   "source": [
    "# stockdata_groupby.head()"
   ]
  },
  {
   "cell_type": "code",
   "execution_count": null,
   "metadata": {},
   "outputs": [],
   "source": [
    "# stock_change_data_old = pd.read_csv('stock_change_datac.csv',header = 0)\n",
    "# stock_change_data_old.shape\n",
    "# df=[stockdata_groupby,stock_change_data_old]\n",
    "# stockdata_groupby=pd.concat(df)\n",
    "# stockdata_groupby.shape"
   ]
  },
  {
   "cell_type": "code",
   "execution_count": null,
   "metadata": {},
   "outputs": [],
   "source": [
    "stockdata_groupby['date'].head()"
   ]
  },
  {
   "cell_type": "code",
   "execution_count": null,
   "metadata": {},
   "outputs": [],
   "source": [
    "#获取每日销量数据\n",
    "mycursor=mydb.cursor()\n",
    "mycursor.execute(sqlSell)\n",
    "stocksell=mycursor.fetchall()"
   ]
  },
  {
   "cell_type": "code",
   "execution_count": null,
   "metadata": {},
   "outputs": [],
   "source": [
    "stocksell=pd.DataFrame(stocksell)\n",
    "stocksell.columns=['SKU','name','total','date']\n",
    "stocksell=stocksell[['SKU','name','total','date']]"
   ]
  },
  {
   "cell_type": "code",
   "execution_count": null,
   "metadata": {},
   "outputs": [],
   "source": [
    "stocksell.head()"
   ]
  },
  {
   "cell_type": "code",
   "execution_count": null,
   "metadata": {},
   "outputs": [],
   "source": [
    "stocksell =stocksell.fillna(np.nan)"
   ]
  },
  {
   "cell_type": "code",
   "execution_count": null,
   "metadata": {},
   "outputs": [],
   "source": [
    "stocksell.isnull().sum()"
   ]
  },
  {
   "cell_type": "code",
   "execution_count": null,
   "metadata": {},
   "outputs": [],
   "source": [
    "stocksell.shape"
   ]
  },
  {
   "cell_type": "code",
   "execution_count": null,
   "metadata": {},
   "outputs": [],
   "source": [
    "stocksell_groupby = stocksell.groupby(['SKU','name','date'],as_index=False)"
   ]
  },
  {
   "cell_type": "code",
   "execution_count": null,
   "metadata": {},
   "outputs": [],
   "source": [
    "stocksell_groupby"
   ]
  },
  {
   "cell_type": "code",
   "execution_count": null,
   "metadata": {},
   "outputs": [],
   "source": [
    "stocksell_groupby=stocksell_groupby.aggregate(np.sum)"
   ]
  },
  {
   "cell_type": "code",
   "execution_count": null,
   "metadata": {},
   "outputs": [],
   "source": [
    "stocksell_groupby.shape"
   ]
  },
  {
   "cell_type": "code",
   "execution_count": null,
   "metadata": {},
   "outputs": [],
   "source": [
    "index = stocksell_groupby[stocksell_groupby['date']<parse('2017-12-31').date()].index\n",
    "stocksell_groupby=stocksell_groupby.drop(index=index,axis=0)"
   ]
  },
  {
   "cell_type": "code",
   "execution_count": null,
   "metadata": {},
   "outputs": [],
   "source": [
    "stocksell_groupby.head()"
   ]
  },
  {
   "cell_type": "code",
   "execution_count": null,
   "metadata": {},
   "outputs": [],
   "source": [
    "stocksell_groupby.shape"
   ]
  },
  {
   "cell_type": "code",
   "execution_count": null,
   "metadata": {},
   "outputs": [],
   "source": [
    "#按天分类\n",
    "stocksell_groupby_date = stocksell_groupby.groupby(['date'],as_index=False)"
   ]
  },
  {
   "cell_type": "code",
   "execution_count": null,
   "metadata": {},
   "outputs": [],
   "source": [
    "stocksell_groupby_date"
   ]
  },
  {
   "cell_type": "code",
   "execution_count": null,
   "metadata": {},
   "outputs": [],
   "source": [
    "#按天获取对应数据\n",
    "stocksell_groupby_date.get_group('2019-03-30').head()"
   ]
  },
  {
   "cell_type": "code",
   "execution_count": null,
   "metadata": {
    "scrolled": true
   },
   "outputs": [],
   "source": [
    "# stockdata_groupby"
   ]
  },
  {
   "cell_type": "code",
   "execution_count": null,
   "metadata": {},
   "outputs": [],
   "source": [
    "#获取特定天的SKU，对应出库，构造SKU：Total字典\n",
    "def get_sku_code(date):\n",
    "    try:\n",
    "        df=stocksell_groupby_date.get_group(date)\n",
    "    except:\n",
    "        df=[]\n",
    "    l=len(df)\n",
    "    dict_new={}\n",
    "    for i in range(l):\n",
    "        dict_new[df['SKU'].iloc[i]]=df['total'].iloc[i]\n",
    "    return dict_new"
   ]
  },
  {
   "cell_type": "code",
   "execution_count": null,
   "metadata": {},
   "outputs": [],
   "source": [
    "#计算库存变化，按照先进先出原则\n",
    "def sku_stock_delete(time,stock_change):\n",
    "    sell_dict=get_sku_code(time)#获取特定某一天的SKU:Total\n",
    "    total=0\n",
    "    a=0\n",
    "    print(len(sell_dict))\n",
    "    for key in sell_dict:\n",
    "        total+=1\n",
    "#         print(total)\n",
    "        sell=sell_dict[key]\n",
    "        #获取满足条件的对应所在行的index\n",
    "        stock_index=stock_change[(stock_change['date']<=parse(time).date())&(stock_change['GoodsNO']==key)\\\n",
    "                                     &(stock_change['Total_in']>0)].sort_values(by ='date',ascending=True)['Total_in'].index\n",
    "        #遍历每个index，按条件扣减对应的库存\n",
    "        for i in stock_index:\n",
    "            stock=stock_change['Total_in'].loc[i]\n",
    "            if sell>=stock:\n",
    "                stock_change['Total_in'].loc[i]=0\n",
    "                sell=sell-stock\n",
    "#                 stock_change['stock_time'].loc[i]=time\n",
    "            else:\n",
    "                stock_change['Total_in'].loc[i]=stock-sell\n",
    "                sell=0\n",
    "#                 stock_change['stock_time'].loc[i]=time\n",
    "                break\n",
    "        a=a+sell\n",
    "    print(total)\n",
    "    index_0 = stock_change[stock_change['Total_in']==0].index\n",
    "    stock_change=stock_change.drop(index=index_0,axis=0)\n",
    "    return stock_change,a"
   ]
  },
  {
   "cell_type": "code",
   "execution_count": null,
   "metadata": {},
   "outputs": [],
   "source": [
    "#重新创建一个DataFrame，复制一份stockdata_groupby,用来确保在调用函数的过程中不改变stockdata_groupby\n",
    "stock_change_data=pd.DataFrame()\n",
    "stock_change_data=pd.concat([stock_change_data,stockdata_groupby])"
   ]
  },
  {
   "cell_type": "code",
   "execution_count": null,
   "metadata": {},
   "outputs": [],
   "source": [
    "#构造存放计算后每天的库存数据表格\n",
    "stock_age_cal=pd.DataFrame()\n",
    "t=0"
   ]
  },
  {
   "cell_type": "code",
   "execution_count": null,
   "metadata": {
    "scrolled": true
   },
   "outputs": [],
   "source": [
    "starttime = datetime.now()\n",
    "startdate=date(2019,3,1)\n",
    "for i in range(31):\n",
    "    start=startdate + timedelta(i)\n",
    "    print(start)\n",
    "    stock_change=sku_stock_delete(str(start),stock_change_data)#调用函数计算库存占用\n",
    "    stock_change[0]['cal_time']=start#标记库存占用计算日期\n",
    "    stock_age_cal=pd.concat([stock_age_cal,stock_change[0][stock_change[0]['date']<=start-timedelta(60)]])#筛选60天前的数据\n",
    "    t+=stock_change[1]\n",
    "endtime=datetime.now()\n",
    "print ((endtime - starttime).seconds/60/60)\n"
   ]
  },
  {
   "cell_type": "code",
   "execution_count": null,
   "metadata": {},
   "outputs": [],
   "source": [
    "stock_age_cal.to_csv('stock_age_cal.csv',header=True,index=False)"
   ]
  },
  {
   "cell_type": "code",
   "execution_count": null,
   "metadata": {},
   "outputs": [],
   "source": [
    "stock_change_data.to_csv('stock_change_data.csv',header=True,index=False)"
   ]
  },
  {
   "cell_type": "code",
   "execution_count": null,
   "metadata": {},
   "outputs": [],
   "source": [
    "stock_age_cal=pd.read_csv('stock_age_cal.csv',header = 0)"
   ]
  },
  {
   "cell_type": "code",
   "execution_count": null,
   "metadata": {},
   "outputs": [],
   "source": [
    "stock_age_cal.head()"
   ]
  },
  {
   "cell_type": "code",
   "execution_count": null,
   "metadata": {},
   "outputs": [],
   "source": [
    "#构造新的表格复制一份stock_age_cal\n",
    "stock_age_cal_copy=pd.DataFrame()\n",
    "stock_age_cal_copy=pd.concat([stock_age_cal_copy,stock_age_cal])"
   ]
  },
  {
   "cell_type": "code",
   "execution_count": null,
   "metadata": {},
   "outputs": [],
   "source": [
    "# stock_age_cal.head()"
   ]
  },
  {
   "cell_type": "code",
   "execution_count": null,
   "metadata": {},
   "outputs": [],
   "source": [
    "# stock_age_cal1=stock_age_cal1[stock_age_cal1['cal_time']<'2018-02-11']"
   ]
  },
  {
   "cell_type": "code",
   "execution_count": null,
   "metadata": {},
   "outputs": [],
   "source": [
    "# stock_age_cal_copy=pd.concat([stock_age_cal1,stock_age_cal])"
   ]
  },
  {
   "cell_type": "code",
   "execution_count": null,
   "metadata": {},
   "outputs": [],
   "source": [
    "# stock_age_cal_copy=stock_age_cal_copy[stock_age_cal_copy['cal_time']<='2018-12-31']"
   ]
  },
  {
   "cell_type": "code",
   "execution_count": null,
   "metadata": {},
   "outputs": [],
   "source": [
    "# stock_age_cal_copy.to_csv('stock_age_cal12.csv',header=True,index=False)"
   ]
  },
  {
   "cell_type": "code",
   "execution_count": null,
   "metadata": {},
   "outputs": [],
   "source": [
    "stock_age_cal_copy['date']=pd.to_datetime(stock_age_cal_copy['date'])\n",
    "stock_age_cal_copy['cal_time']=pd.to_datetime(stock_age_cal_copy['cal_time'])"
   ]
  },
  {
   "cell_type": "code",
   "execution_count": null,
   "metadata": {},
   "outputs": [],
   "source": [
    "stock_age_cal_copy['stockAge']=stock_age_cal_copy['cal_time']-stock_age_cal_copy['date']"
   ]
  },
  {
   "cell_type": "code",
   "execution_count": null,
   "metadata": {},
   "outputs": [],
   "source": [
    "stock_age_cal_copy.head()"
   ]
  },
  {
   "cell_type": "code",
   "execution_count": null,
   "metadata": {},
   "outputs": [],
   "source": [
    "#选择库龄大于60天的SKU\n",
    "stock_age_cal_copy_60=stock_age_cal_copy[(stock_age_cal_copy['stockAge']>=timedelta(60))&(stock_age_cal_copy['cal_time']>'2018-11-30')]"
   ]
  },
  {
   "cell_type": "code",
   "execution_count": null,
   "metadata": {
    "scrolled": true
   },
   "outputs": [],
   "source": [
    "stock_age_cal_copy_60.head()"
   ]
  },
  {
   "cell_type": "code",
   "execution_count": null,
   "metadata": {},
   "outputs": [],
   "source": [
    "# #获取商品固定价格\n",
    "# goodslist=pd.read_csv('C:\\\\Users\\\\Administrator\\\\PycharmProjects\\\\test\\\\g_goods_goodslist.csv',\\\n",
    "#                       header = 0,dtype=object,engine='python',encoding='utf-8')\n",
    "# goodslist_short=goodslist[['GoodsNO','FixCostPrice']]\n",
    "# goodslist_short=goodslist_short.drop_duplicates([\"GoodsNO\"]) #SKU去重"
   ]
  },
  {
   "cell_type": "code",
   "execution_count": null,
   "metadata": {},
   "outputs": [],
   "source": [
    "mydb = mysql.connector.connect(\n",
    "    host=\"rm-bp178mt2593im687xjo.mysql.rds.aliyuncs.com\",\n",
    "    user=\"root\",\n",
    "    passwd=\"KLxs8888\",\n",
    "    database=\"wdgj\"\n",
    ")"
   ]
  },
  {
   "cell_type": "code",
   "execution_count": null,
   "metadata": {},
   "outputs": [],
   "source": [
    "sql_goodslist='SELECT GoodsNO,FixCostPrice,BarCode FROM g_goods_goodslist'\n",
    "mycursor=mydb.cursor()\n",
    "mycursor.execute(sql_goodslist)\n",
    "goodslist=mycursor.fetchall()"
   ]
  },
  {
   "cell_type": "code",
   "execution_count": null,
   "metadata": {},
   "outputs": [],
   "source": [
    "goodslist = pd.DataFrame(goodslist)"
   ]
  },
  {
   "cell_type": "code",
   "execution_count": null,
   "metadata": {},
   "outputs": [],
   "source": [
    "goodslist.columns=['GoodsNO','FixCostPrice','BarCode']"
   ]
  },
  {
   "cell_type": "code",
   "execution_count": null,
   "metadata": {},
   "outputs": [],
   "source": [
    "goodslist = pd.DataFrame(goodslist)\n",
    "goodslist_short=goodslist[['GoodsNO','FixCostPrice','BarCode']]\n",
    "goodslist_short=goodslist_short.drop_duplicates([\"GoodsNO\"])"
   ]
  },
  {
   "cell_type": "code",
   "execution_count": null,
   "metadata": {},
   "outputs": [],
   "source": [
    "#匹配库存和商品列表\n",
    "data_merge=pd.merge(stock_age_cal_copy_60,goodslist_short,on=['GoodsNO'],how='left')\n",
    "data_merge['FixCostPrice']=data_merge['FixCostPrice'].apply(pd.to_numeric) # 将FixCostPrice转换成数值类型"
   ]
  },
  {
   "cell_type": "code",
   "execution_count": null,
   "metadata": {},
   "outputs": [],
   "source": [
    "data_merge=data_merge.fillna(np.nan)"
   ]
  },
  {
   "cell_type": "code",
   "execution_count": null,
   "metadata": {},
   "outputs": [],
   "source": [
    "data_merge.isnull().sum()"
   ]
  },
  {
   "cell_type": "code",
   "execution_count": null,
   "metadata": {},
   "outputs": [],
   "source": [
    "data_merge['FixCostPrice']=data_merge['FixCostPrice'].fillna(0)"
   ]
  },
  {
   "cell_type": "code",
   "execution_count": null,
   "metadata": {},
   "outputs": [],
   "source": [
    "#计算每个SKU的库存占用费\n",
    "data_merge['stockDelayCost']=data_merge['Total_in']*data_merge['FixCostPrice']*0.05/30"
   ]
  },
  {
   "cell_type": "code",
   "execution_count": null,
   "metadata": {},
   "outputs": [],
   "source": [
    "data_merge=data_merge[(data_merge['stockAge']>=timedelta(60))&(data_merge['cal_time']>'2018-12-31')]"
   ]
  },
  {
   "cell_type": "code",
   "execution_count": null,
   "metadata": {},
   "outputs": [],
   "source": [
    "data_merge.shape"
   ]
  },
  {
   "cell_type": "code",
   "execution_count": null,
   "metadata": {},
   "outputs": [],
   "source": [
    "#data_merge.to_excel('data_merge.xlsx',header=True,index=False)"
   ]
  },
  {
   "cell_type": "code",
   "execution_count": null,
   "metadata": {},
   "outputs": [],
   "source": [
    "data_merge['cal_time_month']=data_merge.cal_time.map(lambda x: x.strftime('%Y-%m')) # 取月份数据"
   ]
  },
  {
   "cell_type": "code",
   "execution_count": null,
   "metadata": {},
   "outputs": [],
   "source": [
    "#分SKU，月份汇总\n",
    "data_merge_groupby=data_merge.groupby(['BarCode','GoodsName','cal_time_month'],as_index=False)\n",
    "data_merge_groupby=data_merge_groupby.aggregate(np.sum)"
   ]
  },
  {
   "cell_type": "code",
   "execution_count": null,
   "metadata": {},
   "outputs": [],
   "source": [
    "data_merge_groupby.head()"
   ]
  },
  {
   "cell_type": "code",
   "execution_count": null,
   "metadata": {},
   "outputs": [],
   "source": [
    "#获取小组信息并去重\n",
    "GoodsInfo =pd.read_csv('C:\\\\Users\\\\Administrator\\\\PycharmProjects\\\\test\\\\goodsinfo0402.csv',header = 0,engine='python')\n",
    "GoodsInfo.columns=['GoodsNO','GoodsName','BarCode','Company','Dept','tamllTax','Group','Holder','GradeTwo','GradeThird','GradeForth','SPU']\n",
    "GoodsInfoShort=GoodsInfo[['BarCode','Company','Dept']]\n",
    "GoodsInfoShort=GoodsInfoShort.drop_duplicates(['BarCode'])"
   ]
  },
  {
   "cell_type": "code",
   "execution_count": null,
   "metadata": {},
   "outputs": [],
   "source": [
    "#匹配部门\n",
    "data_merge_dept=pd.merge(data_merge_groupby,GoodsInfoShort,on=['BarCode'],how='left')"
   ]
  },
  {
   "cell_type": "code",
   "execution_count": null,
   "metadata": {},
   "outputs": [],
   "source": [
    "data_merge_dept.columns"
   ]
  },
  {
   "cell_type": "code",
   "execution_count": null,
   "metadata": {},
   "outputs": [],
   "source": [
    "data_merge_dept=data_merge_dept.fillna(np.nan)\n",
    "data_merge_dept.isnull().sum()"
   ]
  },
  {
   "cell_type": "code",
   "execution_count": null,
   "metadata": {},
   "outputs": [],
   "source": [
    "data_merge_groupby.columns"
   ]
  },
  {
   "cell_type": "code",
   "execution_count": null,
   "metadata": {},
   "outputs": [],
   "source": [
    "data_merge_dept=data_merge_dept[['BarCode', 'GoodsName', 'cal_time_month', 'Total_in', 'stockDelayCost','Company', 'Dept']]"
   ]
  },
  {
   "cell_type": "code",
   "execution_count": null,
   "metadata": {},
   "outputs": [],
   "source": [
    "data_merge_dept.to_excel('data_merge_dept.xlsx',header=True,index=False)"
   ]
  },
  {
   "cell_type": "code",
   "execution_count": null,
   "metadata": {},
   "outputs": [],
   "source": [
    "#按月，公司，部门汇总\n",
    "data_merge_dept_gb = data_merge_dept.groupby(['Company','Dept','cal_time_month'],as_index=False)\n",
    "data_merge_dept_gb=data_merge_dept_gb.aggregate(np.sum)\n",
    "data_merge_dept_gb=data_merge_dept_gb[['Company','Dept','cal_time_month','stockDelayCost']]"
   ]
  },
  {
   "cell_type": "code",
   "execution_count": null,
   "metadata": {},
   "outputs": [],
   "source": [
    "data_merge_dept_gb.head()"
   ]
  },
  {
   "cell_type": "code",
   "execution_count": null,
   "metadata": {},
   "outputs": [],
   "source": [
    "data_merge_dept_gb.to_excel(\"2019库存占用带小组9.xlsx\",header=True,index=False)"
   ]
  },
  {
   "cell_type": "code",
   "execution_count": null,
   "metadata": {},
   "outputs": [],
   "source": [
    "# stocksell_groupby[stocksell_groupby['date']<=parse('2018-12-31').date()].sort_values(by ='date',ascending=True).head()"
   ]
  },
  {
   "cell_type": "code",
   "execution_count": null,
   "metadata": {},
   "outputs": [],
   "source": [
    "stock_change_data = pd.read_csv('stock_change_data.csv',header = 0)\n",
    "stock_change_data['date']=pd.to_datetime(stock_change_data['date'])"
   ]
  },
  {
   "cell_type": "code",
   "execution_count": null,
   "metadata": {},
   "outputs": [],
   "source": []
  },
  {
   "cell_type": "code",
   "execution_count": null,
   "metadata": {},
   "outputs": [],
   "source": [
    "#校核检验结果\n",
    "result=stockdata_groupby[stockdata_groupby['date']<=parse('2019-03-31').date()].groupby(['date'],as_index=False)\n",
    "result=result.aggregate(np.sum)#初始库存总数\n",
    "result1=stock_change_data[stock_change_data['date']<=parse('2019-03-31').date()].groupby(['date'],as_index=False)\n",
    "result1=result1.aggregate(np.sum)#最终库存总数\n",
    "result2=stocksell_groupby[stocksell_groupby['date']<=parse('2019-03-31').date()].groupby(['date'],as_index=False)\n",
    "result2=result2.aggregate(np.sum)#出库总数\n",
    "result.Total_in.sum()"
   ]
  },
  {
   "cell_type": "code",
   "execution_count": null,
   "metadata": {},
   "outputs": [],
   "source": [
    "#检验是否计算正确，为零则表示准确无误\n",
    "result1.Total_in.sum()-(result.Total_in.sum()-result2.total.sum()+t)"
   ]
  },
  {
   "cell_type": "code",
   "execution_count": null,
   "metadata": {},
   "outputs": [],
   "source": [
    "result1.Total_in.sum()"
   ]
  },
  {
   "cell_type": "code",
   "execution_count": null,
   "metadata": {},
   "outputs": [],
   "source": [
    "result2.total.sum()"
   ]
  },
  {
   "cell_type": "code",
   "execution_count": null,
   "metadata": {},
   "outputs": [],
   "source": [
    "t"
   ]
  },
  {
   "cell_type": "code",
   "execution_count": null,
   "metadata": {},
   "outputs": [],
   "source": [
    "startdate=date(2019,3,1)\n",
    "for i in range(31):\n",
    "    start=startdate + timedelta(i)\n",
    "    print(start)"
   ]
  },
  {
   "cell_type": "code",
   "execution_count": null,
   "metadata": {},
   "outputs": [],
   "source": []
  },
  {
   "cell_type": "code",
   "execution_count": null,
   "metadata": {},
   "outputs": [],
   "source": []
  }
 ],
 "metadata": {
  "kernelspec": {
   "display_name": "Python 3",
   "language": "python",
   "name": "python3"
  },
  "language_info": {
   "codemirror_mode": {
    "name": "ipython",
    "version": 3
   },
   "file_extension": ".py",
   "mimetype": "text/x-python",
   "name": "python",
   "nbconvert_exporter": "python",
   "pygments_lexer": "ipython3",
   "version": "3.6.4"
  }
 },
 "nbformat": 4,
 "nbformat_minor": 2
}
